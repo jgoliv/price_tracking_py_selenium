{
 "cells": [
  {
   "cell_type": "code",
   "execution_count": null,
   "id": "a37ea6c8",
   "metadata": {},
   "outputs": [],
   "source": [
    "pip install selenium"
   ]
  },
  {
   "cell_type": "code",
   "execution_count": null,
   "id": "05bc81e9",
   "metadata": {},
   "outputs": [],
   "source": [
    "pip install webdriver-manager"
   ]
  },
  {
   "cell_type": "code",
   "execution_count": null,
   "id": "a3b6bf11",
   "metadata": {},
   "outputs": [],
   "source": [
    "from selenium import webdriver\n",
    "from webdriver_manager.chrome import ChromeDriverManager\n",
    "from selenium.webdriver.chrome.service import Service\n",
    "\n",
    "# function to create and WebDriver instance\n",
    "def create_driver(url: str = None) -> webdriver.Chrome:\n",
    "    driver = webdriver.Chrome(service=Service(ChromeDriverManager().install()))\n",
    "    \n",
    "    if url:\n",
    "        driver.get(url)\n",
    "    \n",
    "    return driver"
   ]
  },
  {
   "cell_type": "code",
   "execution_count": null,
   "id": "fffed33a",
   "metadata": {},
   "outputs": [],
   "source": [
    "from selenium.webdriver.common.by import By\n",
    "from selenium.webdriver.chrome.service import Service\n",
    "from selenium.webdriver.support.ui import WebDriverWait\n",
    "from selenium.webdriver.support import expected_conditions as EC\n",
    "from selenium.webdriver.common.action_chains import ActionChains\n",
    "\n",
    "# basic action functions\n",
    "def move_click(driver: webdriver.Chrome, by: By, element: str, wait_time: int = 10) -> None:\n",
    "        wait = WebDriverWait(driver, wait_time)\n",
    "        actions = ActionChains(driver)\n",
    "        el = wait.until(EC.element_to_be_clickable((by, element)))\n",
    "        actions.move_to_element(el).click().perform()\n",
    "\n",
    "def move_click_fill(driver: webdriver.Chrome, by: By, element: str, value: str, wait_time: int = 10) -> None:\n",
    "        move_click(driver, by, element, wait_time)\n",
    "        el = driver.find_element(by, element)\n",
    "        el.clear()\n",
    "        el.send_keys(value)"
   ]
  },
  {
   "cell_type": "code",
   "execution_count": null,
   "id": "b7ac710c",
   "metadata": {},
   "outputs": [],
   "source": [
    "# create the WebDriver instance\n",
    "driver = create_driver(url=\"https://www.amazon.com\")\n",
    "\n",
    "# input the book in the search bar\n",
    "move_click_fill(\n",
    "    driver=driver\n",
    "    , by=By.ID\n",
    "    , element=\"twotabsearchtextbox\"\n",
    "    , value=\"Hands-On Machine Learning with Scikit-Learn, Keras, and TensorFlow\"\n",
    ")\n",
    "\n",
    "move_click(driver=driver, by=By.ID, element=\"nav-search-submit-button\")"
   ]
  },
  {
   "cell_type": "code",
   "execution_count": null,
   "id": "69d93c1c",
   "metadata": {},
   "outputs": [],
   "source": [
    "import pandas as pd\n",
    "\n",
    "pd.set_option('display.max_colwidth', 30)\n",
    "\n",
    "# locating all titles, prices and product links\n",
    "titles = driver.find_elements(By.CLASS_NAME, \"a-size-medium.a-color-base.a-text-normal\")\n",
    "whole_prices = driver.find_elements(By.CLASS_NAME, \"a-price-whole\")\n",
    "fractional_prices = driver.find_elements(By.CLASS_NAME, \"a-price-fraction\")\n",
    "links = driver.find_elements(By.CLASS_NAME, \"a-link-normal\")\n",
    "\n",
    "# loop to append data to the DataFrame\n",
    "data = []\n",
    "\n",
    "for i in range(len(titles)):\n",
    "    \n",
    "    title = titles[i].text\n",
    "    price = f\"{whole_prices[i].text}.{fractional_prices[i].text}\"\n",
    "    link = links[i].get_attribute(\"href\")  # obtaining the product link\n",
    "    \n",
    "    data.append({\"title\": title, \"price\": price, \"link\": link})\n",
    "\n",
    "df = pd.DataFrame(data)\n",
    "\n",
    "print(df)\n",
    "driver.quit()"
   ]
  }
 ],
 "metadata": {
  "kernelspec": {
   "display_name": "Python 3 (ipykernel)",
   "language": "python",
   "name": "python3"
  },
  "language_info": {
   "codemirror_mode": {
    "name": "ipython",
    "version": 3
   },
   "file_extension": ".py",
   "mimetype": "text/x-python",
   "name": "python",
   "nbconvert_exporter": "python",
   "pygments_lexer": "ipython3",
   "version": "3.10.12"
  }
 },
 "nbformat": 4,
 "nbformat_minor": 5
}
